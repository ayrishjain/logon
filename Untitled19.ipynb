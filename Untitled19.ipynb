{
  "cells": [
    {
      "cell_type": "markdown",
      "metadata": {
        "id": "view-in-github",
        "colab_type": "text"
      },
      "source": [
        "<a href=\"https://colab.research.google.com/github/ayrishjain/logon/blob/main/Untitled19.ipynb\" target=\"_parent\"><img src=\"https://colab.research.google.com/assets/colab-badge.svg\" alt=\"Open In Colab\"/></a>"
      ]
    },
    {
      "cell_type": "code",
      "execution_count": null,
      "metadata": {
        "colab": {
          "base_uri": "https://localhost:8080/"
        },
        "id": "TUsWElP_jaUC",
        "outputId": "d68fc268-0970-4771-9954-12ce3f4db1bd"
      },
      "outputs": [
        {
          "name": "stdout",
          "output_type": "stream",
          "text": [
            "Files in '/content': ['.config', '3150288846.jpg', '4225050520.jpg', '3023420658.jpg', '442337651.jpg', '3459680851.jpg', '4213622833.jpg', '4253115679.jpg', '3469867139.jpg', 'logo_detection_model.h5', '3276332721.jpg', '4743157495.jpg', '3261774945.jpg', '3460840610.jpg', '3460711638.jpg', '3457093812.jpg', '4211723698.jpg', '3152384527.jpg', '4253102363.jpg', '418635708.jpg', '3462654085.jpg', '354643240.jpg', '2583801040.jpg', '4737345823.jpg', 'drive', '3125626922.jpg', '3473801010.jpg', '3153222474.jpg', '4749057567.jpg', '339296129.jpg', '3465475368.jpg', 'data', '3466964233.jpg', '3479779576.jpg', '4210274024.jpg', '3462305497.jpg', '4211723460.jpg', '.ipynb_checkpoints', '3468967682.jpg', '3465742290.jpg', '3147491623.jpg']\n"
          ]
        }
      ],
      "source": [
        "import os\n",
        "\n",
        "cwd = os.getcwd()  # Get the current working directory (cwd)\n",
        "files = os.listdir(cwd)  # Get all the files in that directory\n",
        "print(\"Files in %r: %s\" % (cwd, files))"
      ]
    },
    {
      "cell_type": "code",
      "source": [],
      "metadata": {
        "id": "YrqybjtKdaX4"
      },
      "execution_count": null,
      "outputs": []
    },
    {
      "cell_type": "code",
      "execution_count": null,
      "metadata": {
        "id": "Cw-8Q_gFi0jQ"
      },
      "outputs": [],
      "source": [
        "import os\n",
        "from keras.preprocessing.image import ImageDataGenerator\n",
        "from keras.applications import VGG16\n",
        "from keras.layers import Dense, GlobalAveragePooling2D\n",
        "from keras.models import Model\n",
        "from keras.optimizers import Adam\n",
        "\n",
        "# Set paths for training and validation data\n",
        "train_data_dir = '/content/data/train'\n",
        "validation_data_dir = '/content/data/validation'\n",
        "\n",
        "# Define image size and batch size for training\n",
        "img_width, img_height = 224, 224\n",
        "batch_size = 32\n",
        "\n",
        "# Create data generator for data augmentation during training\n",
        "train_datagen = ImageDataGenerator(\n",
        "    rescale=1. / 255,\n",
        "    shear_range=0.2,\n",
        "    zoom_range=0.2,\n",
        "    horizontal_flip=True)\n",
        "\n",
        "# Create data generator for validation data\n",
        "validation_datagen = ImageDataGenerator(rescale=1. / 255)"
      ]
    },
    {
      "cell_type": "code",
      "source": [],
      "metadata": {
        "id": "U4weUNTGYSfa"
      },
      "execution_count": null,
      "outputs": []
    },
    {
      "cell_type": "code",
      "execution_count": null,
      "metadata": {
        "id": "XwqotvI_l6YM"
      },
      "outputs": [],
      "source": [
        "import os\n",
        "\n",
        "# Specify the directory path\n",
        "train_data_dir = '/content/data/train'\n",
        "\n",
        "# Create the directory if it doesn't exist\n",
        "if not os.path.exists(train_data_dir):\n",
        "    os.makedirs(train_data_dir)"
      ]
    },
    {
      "cell_type": "code",
      "execution_count": null,
      "metadata": {
        "colab": {
          "base_uri": "https://localhost:8080/"
        },
        "id": "5EY3nlJ6ld_5",
        "outputId": "810147df-9c03-4752-e6de-e81607b33b2d"
      },
      "outputs": [
        {
          "name": "stdout",
          "output_type": "stream",
          "text": [
            "Found 21 images belonging to 2 classes.\n"
          ]
        }
      ],
      "source": [
        "from keras.preprocessing.image import ImageDataGenerator\n",
        "\n",
        "# Set the path to the training data directory\n",
        "train_data_dir = '/content/data'\n",
        "\n",
        "# Define image size and batch size for training\n",
        "img_width, img_height = 224, 224\n",
        "batch_size = 32\n",
        "\n",
        "# Create an instance of ImageDataGenerator for data augmentation during training\n",
        "train_datagen = ImageDataGenerator(\n",
        "    rescale=1. / 255,    # Scale pixel values to [0, 1]\n",
        "    shear_range=0.2,    # Apply random shear augmentation\n",
        "    zoom_range=0.2,     # Apply random zoom augmentation\n",
        "    horizontal_flip=True)  # Apply random horizontal flip augmentation\n",
        "\n",
        "# Generate training data from directory\n",
        "train_generator = train_datagen.flow_from_directory(\n",
        "    train_data_dir,                # Directory containing training images\n",
        "    target_size=(img_width, img_height),  # Target image size (width, height)\n",
        "    batch_size=batch_size,        # Batch size for training\n",
        "    class_mode='binary')          # Type of problem, e.g. 'binary' for binary classification\n",
        "\n",
        "# You can access the generated training data using the 'train_generator' object,\n",
        "# which can be used to fit the model with the 'fit_generator' method."
      ]
    },
    {
      "cell_type": "code",
      "execution_count": null,
      "metadata": {
        "id": "KCYAPljBmlXL"
      },
      "outputs": [],
      "source": [
        "import os\n",
        "\n",
        "# Specify the directory path\n",
        "validation_data_dir = '/content/data/validation'\n",
        "\n",
        "# Create the directory if it doesn't exist\n",
        "if not os.path.exists(validation_data_dir):\n",
        "    os.makedirs(validation_data_dir)"
      ]
    },
    {
      "cell_type": "code",
      "execution_count": null,
      "metadata": {
        "colab": {
          "base_uri": "https://localhost:8080/"
        },
        "id": "MYBDm6ssoIY6",
        "outputId": "4fd2f579-1a21-4c9c-a440-36268cbb44d4"
      },
      "outputs": [
        {
          "name": "stdout",
          "output_type": "stream",
          "text": [
            "1\n"
          ]
        }
      ],
      "source": [
        "print(len(train_generator))"
      ]
    },
    {
      "cell_type": "code",
      "execution_count": null,
      "metadata": {
        "colab": {
          "background_save": true,
          "base_uri": "https://localhost:8080/"
        },
        "id": "T4F71fXJmRVn",
        "outputId": "603d0fe1-5901-486e-bd92-a10d6ee0fa02"
      },
      "outputs": [
        {
          "name": "stdout",
          "output_type": "stream",
          "text": [
            "Found 0 images belonging to 1 classes.\n",
            "Found 21 images belonging to 2 classes.\n",
            "Epoch 1/10\n"
          ]
        },
        {
          "name": "stderr",
          "output_type": "stream",
          "text": [
            "<ipython-input-82-d7d29b7bc99b>:43: UserWarning: `Model.fit_generator` is deprecated and will be removed in a future version. Please use `Model.fit`, which supports generators.\n",
            "  model.fit_generator(\n"
          ]
        },
        {
          "name": "stdout",
          "output_type": "stream",
          "text": [
            "1/1 [==============================] - 51s 51s/step - loss: 0.7087 - accuracy: 0.5000\n",
            "Epoch 2/10\n",
            "1/1 [==============================] - 49s 49s/step - loss: 594.8097 - accuracy: 0.5000\n",
            "Epoch 3/10\n",
            "1/1 [==============================] - 50s 50s/step - loss: 0.7975 - accuracy: 0.5000\n",
            "Epoch 4/10\n",
            "1/1 [==============================] - 49s 49s/step - loss: 0.6934 - accuracy: 0.5000\n",
            "Epoch 5/10\n",
            "1/1 [==============================] - 50s 50s/step - loss: 0.6936 - accuracy: 0.5000\n",
            "Epoch 6/10\n",
            "1/1 [==============================] - 51s 51s/step - loss: 0.8460 - accuracy: 0.5000\n",
            "Epoch 7/10\n",
            "1/1 [==============================] - 54s 54s/step - loss: 12.3649 - accuracy: 0.5000\n",
            "Epoch 8/10\n",
            "1/1 [==============================] - 50s 50s/step - loss: 0.8871 - accuracy: 0.5000\n",
            "Epoch 9/10\n",
            "1/1 [==============================] - 48s 48s/step - loss: 2.0185 - accuracy: 0.5000\n",
            "Epoch 10/10\n",
            "1/1 [==============================] - 51s 51s/step - loss: 0.8229 - accuracy: 0.5000\n"
          ]
        }
      ],
      "source": [
        "# Generate validation data from directory\n",
        "validation_generator = validation_datagen.flow_from_directory(\n",
        "    validation_data_dir,\n",
        "    target_size=(img_width, img_height),\n",
        "    batch_size=batch_size,\n",
        "    class_mode='binary')\n",
        "\n",
        "# Load pre-trained VGG16 model without top (fully connected) layers\n",
        "base_model = VGG16(weights='imagenet', include_top=False, input_shape=(img_width, img_height, 3))\n",
        "\n",
        "# Add custom top layers for logo detection\n",
        "x = base_model.output\n",
        "x = GlobalAveragePooling2D()(x)\n",
        "x = Dense(512, activation='relu')(x)\n",
        "predictions = Dense(1, activation='sigmoid')(x)\n",
        "\n",
        "# Create final model\n",
        "model = Model(inputs=base_model.input, outputs=predictions)\n",
        "\n",
        "# Compile the model with desired optimizer, loss function, and metrics\n",
        "model.compile(optimizer=Adam(lr=0.001), loss='binary_crossentropy', metrics=['accuracy'])\n",
        "from tensorflow.keras.preprocessing.image import ImageDataGenerator\n",
        "\n",
        "# Create an instance of ImageDataGenerator for training data\n",
        "train_datagen = ImageDataGenerator(rescale=1./255)\n",
        "\n",
        "# Define the directory and other parameters for training data\n",
        "train_dir = '/content/data'  # Directory containing training images\n",
        "batch_size = 32\n",
        "target_size = (224, 224)  # Desired image size\n",
        "\n",
        "# Create a data generator for training data\n",
        "train_generator = train_datagen.flow_from_directory(\n",
        "    train_dir,\n",
        "    target_size=target_size,\n",
        "    batch_size=batch_size,\n",
        "    class_mode='categorical'  # Specify the class mode for multi-class classification\n",
        ")\n",
        "\n",
        "\n",
        "\n",
        "# Start model training\n",
        "model.fit_generator(\n",
        "    train_generator,\n",
        "    epochs=10,  # Specify the number of epochs for training\n",
        "    steps_per_epoch=len(train_generator)\n",
        ")\n",
        "\n",
        "\n",
        "# Save the trained model\n",
        "model.save('logo_detection_model.h5')"
      ]
    },
    {
      "cell_type": "code",
      "execution_count": null,
      "metadata": {
        "colab": {
          "background_save": true
        },
        "id": "J5zkOzs0DJTQ",
        "outputId": "e8154532-fbfd-4c91-922f-5dea40821635"
      },
      "outputs": [
        {
          "name": "stdout",
          "output_type": "stream",
          "text": [
            "1/1 [==============================] - 1s 738ms/step\n",
            "Predicted Class:  NIKE\n",
            "Confidence:  37.280747294425964 %\n"
          ]
        }
      ],
      "source": [
        "import cv2\n",
        "from tensorflow.keras.models import load_model\n",
        "\n",
        "# Load the pre-trained deep learning model\n",
        "model = load_model('logo_detection_model.h5')  # Load the trained model from a saved file\n",
        "\n",
        "# Define the classes for logo detection\n",
        "class_names = ['NIKE', 'APPLE']\n",
        "\n",
        "# Load an image for logo detection\n",
        "image_path = '/content/339296129.jpg'  # Replace with the path of your test image\n",
        "image = cv2.imread(image_path)\n",
        "image = cv2.resize(image, (224, 224))  # Resize the image to the input size of the model\n",
        "image = image / 255.0  # Normalize the pixel values\n",
        "\n",
        "# Make predictions on the image\n",
        "predictions = model.predict(image[np.newaxis, ...])\n",
        "predicted_class_index = np.argmax(predictions)\n",
        "predicted_class_name = class_names[predicted_class_index]\n",
        "confidence = predictions[0][predicted_class_index] * 100\n",
        "\n",
        "# Print the predicted class and confidence\n",
        "print('Predicted Class: ', predicted_class_name)\n",
        "print('Confidence: ', confidence, '%')"
      ]
    },
    {
      "cell_type": "code",
      "execution_count": null,
      "metadata": {
        "id": "wOHJuZzm_mA3"
      },
      "outputs": [],
      "source": [
        "# Import necessary libraries\n",
        "import cv2\n",
        "import numpy as np\n",
        "from keras.models import load_model\n",
        "\n",
        "# Load pre-trained deep learning model\n",
        "model = load_model('logo_detection_model.h5')\n",
        "\n",
        "# Function to detect brand logo and determine if it's fake or real\n",
        "def detect_logo(image_path):\n",
        "    # Load input image\n",
        "    img = cv2.imread(image_path)\n",
        "    img = cv2.resize(img, (224, 224))\n",
        "    img = img / 255.0  # Normalize pixel values to [0, 1]\n",
        "\n",
        "    # Make prediction using the pre-trained model\n",
        "    pred = model.predict(np.array([img]))\n",
        "    confidence = round(pred[0][0] * 100, 2)  # Confidence level in percentage\n",
        "    if pred[0][0] > 0.5:\n",
        "        return \"NIKE\", \"Real\", confidence\n",
        "    else:\n",
        "        return \"NIKE\", \"Fake\", confidence\n",
        "\n",
        "# Example usage:\n",
        "image_path = \"/content/4573390606.jpg\"  # Replace with the actual path of your input image\n",
        "brand, authenticity, confidence = detect_logo(image_path)\n",
        "print(\"Brand: \", brand)\n",
        "print(\"Authenticity: \", authenticity)\n",
        "print(\"Confidence: \", confidence, \"%\")"
      ]
    }
  ],
  "metadata": {
    "colab": {
      "provenance": [],
      "include_colab_link": true
    },
    "kernelspec": {
      "display_name": "Python 3",
      "name": "python3"
    },
    "language_info": {
      "name": "python"
    }
  },
  "nbformat": 4,
  "nbformat_minor": 0
}